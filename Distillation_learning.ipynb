{
  "nbformat": 4,
  "nbformat_minor": 0,
  "metadata": {
    "colab": {
      "provenance": []
    },
    "kernelspec": {
      "name": "python3",
      "display_name": "Python 3"
    },
    "language_info": {
      "name": "python"
    }
  },
  "cells": [
    {
      "cell_type": "code",
      "source": [
        "# Import libraries\n",
        "import tensorflow as tf"
      ],
      "metadata": {
        "id": "nqDLpfbCyI23"
      },
      "execution_count": 1,
      "outputs": []
    },
    {
      "cell_type": "code",
      "source": [
        "# Load the data\n",
        "(x_train, y_train), (x_test, y_test) = tf.keras.datasets.mnist.load_data()\n",
        "\n",
        "# Preprocess the data\n",
        "x_train = x_train.reshape(-1, 784).astype('float32') / 255\n",
        "x_test = x_test.reshape(-1, 784).astype('float32') / 255\n",
        "y_train = tf.keras.utils.to_categorical(y_train)\n",
        "y_test = tf.keras.utils.to_categorical(y_test)"
      ],
      "metadata": {
        "id": "8dPEkEaG0_3G"
      },
      "execution_count": 2,
      "outputs": []
    },
    {
      "cell_type": "code",
      "source": [
        "# Define the teacher model (a larger, more complex neural network)\n",
        "class TeacherModel(tf.keras.Model):\n",
        "    def __init__(self):\n",
        "        super(TeacherModel, self).__init__()\n",
        "        # Define the layers of the teacher model\n",
        "        self.layer1 = tf.keras.layers.Dense(512, input_shape=(784,), activation='relu')\n",
        "        self.layer2 = tf.keras.layers.Dense(256, activation='relu')\n",
        "        self.layer3 = tf.keras.layers.Dense(128, activation='relu')\n",
        "        self.layer4 = tf.keras.layers.Dense(64, activation='relu')\n",
        "        self.last   = tf.keras.layers.Dense(10, activation='softmax')\n",
        "\n",
        "    def call(self, x):\n",
        "        # Define the forward pass of the teacher model\n",
        "        x = self.layer1(x)\n",
        "        x = self.layer2(x)\n",
        "        x = self.layer3(x)\n",
        "        x = self.layer4(x)\n",
        "        return self.last(x)\n"
      ],
      "metadata": {
        "id": "TS74SfVyyFmI"
      },
      "execution_count": 3,
      "outputs": []
    },
    {
      "cell_type": "code",
      "source": [
        "# Define the student model (a smaller, more efficient neural network)\n",
        "class StudentModel(tf.keras.Model):\n",
        "    def __init__(self):\n",
        "        super(StudentModel, self).__init__()\n",
        "        # Define the layers of the student model\n",
        "        self.layer1 = tf.keras.layers.Dense(512, input_shape=(784,), activation='relu')\n",
        "        self.layer2 = tf.keras.layers.Dense(256, activation='relu')\n",
        "        self.last = tf.keras.layers.Dense(10, activation='softmax')\n",
        "\n",
        "    def call(self, x):\n",
        "        # Define the forward pass of the student model\n",
        "        x = self.layer1(x)\n",
        "        x = self.layer2(x)\n",
        "        return self.last(x)"
      ],
      "metadata": {
        "id": "wJYiTuHpyMsf"
      },
      "execution_count": 4,
      "outputs": []
    },
    {
      "cell_type": "code",
      "source": [
        "# Load the teacher model \n",
        "teacher_model = TeacherModel()\n",
        "\n",
        "# Define the loss function and optimizer\n",
        "loss_fn = tf.keras.losses.CategoricalCrossentropy()\n",
        "optimizer = tf.keras.optimizers.Adam()"
      ],
      "metadata": {
        "id": "Cpr6VlJ808GG"
      },
      "execution_count": 5,
      "outputs": []
    },
    {
      "cell_type": "code",
      "source": [
        "# Train the teacher model\n",
        "teacher_model.compile(optimizer=optimizer, loss=loss_fn, metrics=['accuracy'])\n",
        "teacher_model.fit(x_train, y_train, epochs=5, batch_size=32, validation_data=(x_test, y_test))"
      ],
      "metadata": {
        "colab": {
          "base_uri": "https://localhost:8080/"
        },
        "id": "Nuw1ozP71LvN",
        "outputId": "19ff39e8-aef8-4b85-ab82-ba3b3af062a7"
      },
      "execution_count": 6,
      "outputs": [
        {
          "output_type": "stream",
          "name": "stdout",
          "text": [
            "Epoch 1/5\n",
            "1875/1875 [==============================] - 16s 8ms/step - loss: 0.2089 - accuracy: 0.9369 - val_loss: 0.1142 - val_accuracy: 0.9659\n",
            "Epoch 2/5\n",
            "1875/1875 [==============================] - 10s 6ms/step - loss: 0.0945 - accuracy: 0.9715 - val_loss: 0.0837 - val_accuracy: 0.9746\n",
            "Epoch 3/5\n",
            "1875/1875 [==============================] - 10s 6ms/step - loss: 0.0676 - accuracy: 0.9797 - val_loss: 0.0764 - val_accuracy: 0.9787\n",
            "Epoch 4/5\n",
            "1875/1875 [==============================] - 11s 6ms/step - loss: 0.0517 - accuracy: 0.9840 - val_loss: 0.0945 - val_accuracy: 0.9731\n",
            "Epoch 5/5\n",
            "1875/1875 [==============================] - 11s 6ms/step - loss: 0.0443 - accuracy: 0.9862 - val_loss: 0.1045 - val_accuracy: 0.9741\n"
          ]
        },
        {
          "output_type": "execute_result",
          "data": {
            "text/plain": [
              "<keras.callbacks.History at 0x7f47625fa7c0>"
            ]
          },
          "metadata": {},
          "execution_count": 6
        }
      ]
    },
    {
      "cell_type": "code",
      "source": [
        "# Load the student model\n",
        "student_model = StudentModel()\n",
        "\n",
        "# Freeze the teacher model layers\n",
        "for layer in teacher_model.layers:\n",
        "    layer.trainable = False"
      ],
      "metadata": {
        "id": "sDw_J_-H1bQf"
      },
      "execution_count": 7,
      "outputs": []
    },
    {
      "cell_type": "code",
      "source": [
        "# Define the distillation loss function\n",
        "temp = 5\n",
        "def distillation_loss(y_true, y_pred):\n",
        "    y_true = tf.nn.softmax(y_true / temp)\n",
        "    y_pred = tf.nn.softmax(y_pred / temp)\n",
        "    return tf.reduce_mean(tf.keras.losses.categorical_crossentropy(y_true, y_pred))"
      ],
      "metadata": {
        "id": "5y2FFZ7X1p6W"
      },
      "execution_count": 8,
      "outputs": []
    },
    {
      "cell_type": "code",
      "source": [
        "# Train the student model\n",
        "student_model.compile(optimizer=optimizer, loss=distillation_loss, metrics=['accuracy'])\n",
        "student_model.fit(x_train, teacher_model.predict(x_train), epochs=5, batch_size=32, validation_data=(x_test, y_test))"
      ],
      "metadata": {
        "colab": {
          "base_uri": "https://localhost:8080/"
        },
        "id": "yxNf7WOF14Ge",
        "outputId": "cce933c4-54c4-48e0-ab06-ee1e2c060c19"
      },
      "execution_count": 9,
      "outputs": [
        {
          "output_type": "stream",
          "name": "stdout",
          "text": [
            "1875/1875 [==============================] - 4s 2ms/step\n",
            "Epoch 1/5\n",
            "1875/1875 [==============================] - 11s 5ms/step - loss: 2.3008 - accuracy: 0.9372 - val_loss: 2.3007 - val_accuracy: 0.9604\n",
            "Epoch 2/5\n",
            "1875/1875 [==============================] - 10s 6ms/step - loss: 2.3007 - accuracy: 0.9711 - val_loss: 2.3007 - val_accuracy: 0.9687\n",
            "Epoch 3/5\n",
            "1875/1875 [==============================] - 10s 5ms/step - loss: 2.3007 - accuracy: 0.9776 - val_loss: 2.3007 - val_accuracy: 0.9690\n",
            "Epoch 4/5\n",
            "1875/1875 [==============================] - 10s 5ms/step - loss: 2.3007 - accuracy: 0.9811 - val_loss: 2.3007 - val_accuracy: 0.9738\n",
            "Epoch 5/5\n",
            "1875/1875 [==============================] - 10s 5ms/step - loss: 2.3007 - accuracy: 0.9840 - val_loss: 2.3007 - val_accuracy: 0.9725\n"
          ]
        },
        {
          "output_type": "execute_result",
          "data": {
            "text/plain": [
              "<keras.callbacks.History at 0x7f4762590880>"
            ]
          },
          "metadata": {},
          "execution_count": 9
        }
      ]
    },
    {
      "cell_type": "code",
      "execution_count": 10,
      "metadata": {
        "colab": {
          "base_uri": "https://localhost:8080/"
        },
        "id": "8QL9_sPjx9oB",
        "outputId": "a1678bd9-c573-4280-bfdf-40caccb63a28"
      },
      "outputs": [
        {
          "output_type": "stream",
          "name": "stdout",
          "text": [
            "313/313 [==============================] - 1s 3ms/step - loss: 2.3007 - accuracy: 0.9725\n",
            "Test accuracy: 0.9725000262260437\n"
          ]
        }
      ],
      "source": [
        "# Evaluate the student model\n",
        "test_loss, test_acc = student_model.evaluate(x_test, y_test)\n",
        "print('Test accuracy:', test_acc)"
      ]
    }
  ]
}